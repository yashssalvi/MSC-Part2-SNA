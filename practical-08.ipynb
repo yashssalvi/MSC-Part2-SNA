{
 "cells": [
  {
   "cell_type": "markdown",
   "id": "23ad9945",
   "metadata": {
    "papermill": {
     "duration": 0.002958,
     "end_time": "2023-03-21T10:11:38.809260",
     "exception": false,
     "start_time": "2023-03-21T10:11:38.806302",
     "status": "completed"
    },
    "tags": []
   },
   "source": [
    "# Practical 08\n",
    "## Aim: \n",
    "    Perform SVD analysis of a network."
   ]
  },
  {
   "cell_type": "code",
   "execution_count": 1,
   "id": "0bb1d0b6",
   "metadata": {
    "execution": {
     "iopub.execute_input": "2023-03-21T10:11:38.817345Z",
     "iopub.status.busy": "2023-03-21T10:11:38.815355Z",
     "iopub.status.idle": "2023-03-21T10:11:39.036889Z",
     "shell.execute_reply": "2023-03-21T10:11:39.034978Z"
    },
    "papermill": {
     "duration": 0.227766,
     "end_time": "2023-03-21T10:11:39.039230",
     "exception": false,
     "start_time": "2023-03-21T10:11:38.811464",
     "status": "completed"
    },
    "tags": []
   },
   "outputs": [
    {
     "name": "stderr",
     "output_type": "stream",
     "text": [
      "\n",
      "Attaching package: ‘igraph’\n",
      "\n",
      "\n",
      "The following objects are masked from ‘package:stats’:\n",
      "\n",
      "    decompose, spectrum\n",
      "\n",
      "\n",
      "The following object is masked from ‘package:base’:\n",
      "\n",
      "    union\n",
      "\n",
      "\n"
     ]
    }
   ],
   "source": [
    "library(igraph)"
   ]
  },
  {
   "cell_type": "code",
   "execution_count": 2,
   "id": "b6e65e11",
   "metadata": {
    "execution": {
     "iopub.execute_input": "2023-03-21T10:11:39.080819Z",
     "iopub.status.busy": "2023-03-21T10:11:39.045583Z",
     "iopub.status.idle": "2023-03-21T10:11:39.092321Z",
     "shell.execute_reply": "2023-03-21T10:11:39.090688Z"
    },
    "papermill": {
     "duration": 0.053078,
     "end_time": "2023-03-21T10:11:39.094655",
     "exception": false,
     "start_time": "2023-03-21T10:11:39.041577",
     "status": "completed"
    },
    "tags": []
   },
   "outputs": [],
   "source": [
    "a <- matrix(c(1, 1, 1, 1, 1, 1, 1, 1, 1, 1, 1, 1, 0, 0, 0, 0, 0,\n",
    "      0, 0, 0, 0, 1, 1, 1, 0, 0, 0, 0, 0, 0, 0, 0, 0, 1, 1, 1), 9, 4)"
   ]
  },
  {
   "cell_type": "code",
   "execution_count": 3,
   "id": "5bc2f729",
   "metadata": {
    "execution": {
     "iopub.execute_input": "2023-03-21T10:11:39.102770Z",
     "iopub.status.busy": "2023-03-21T10:11:39.101152Z",
     "iopub.status.idle": "2023-03-21T10:11:39.115859Z",
     "shell.execute_reply": "2023-03-21T10:11:39.114302Z"
    },
    "papermill": {
     "duration": 0.021373,
     "end_time": "2023-03-21T10:11:39.118289",
     "exception": false,
     "start_time": "2023-03-21T10:11:39.096916",
     "status": "completed"
    },
    "tags": []
   },
   "outputs": [
    {
     "name": "stdout",
     "output_type": "stream",
     "text": [
      "      [,1] [,2] [,3] [,4]\n",
      " [1,]    1    1    0    0\n",
      " [2,]    1    1    0    0\n",
      " [3,]    1    1    0    0\n",
      " [4,]    1    0    1    0\n",
      " [5,]    1    0    1    0\n",
      " [6,]    1    0    1    0\n",
      " [7,]    1    0    0    1\n",
      " [8,]    1    0    0    1\n",
      " [9,]    1    0    0    1\n"
     ]
    }
   ],
   "source": [
    "print(a)"
   ]
  },
  {
   "cell_type": "code",
   "execution_count": 4,
   "id": "139ec4fe",
   "metadata": {
    "execution": {
     "iopub.execute_input": "2023-03-21T10:11:39.126885Z",
     "iopub.status.busy": "2023-03-21T10:11:39.125306Z",
     "iopub.status.idle": "2023-03-21T10:11:39.179908Z",
     "shell.execute_reply": "2023-03-21T10:11:39.178289Z"
    },
    "papermill": {
     "duration": 0.060908,
     "end_time": "2023-03-21T10:11:39.182137",
     "exception": false,
     "start_time": "2023-03-21T10:11:39.121229",
     "status": "completed"
    },
    "tags": []
   },
   "outputs": [
    {
     "data": {
      "text/html": [
       "<dl>\n",
       "\t<dt>$d</dt>\n",
       "\t\t<dd><style>\n",
       ".list-inline {list-style: none; margin:0; padding: 0}\n",
       ".list-inline>li {display: inline-block}\n",
       ".list-inline>li:not(:last-child)::after {content: \"\\00b7\"; padding: 0 .5ex}\n",
       "</style>\n",
       "<ol class=list-inline><li>3.46410161513775</li><li>1.73205080756888</li><li>1.73205080756888</li><li>1.35973995551052e-16</li></ol>\n",
       "</dd>\n",
       "\t<dt>$u</dt>\n",
       "\t\t<dd><table class=\"dataframe\">\n",
       "<caption>A matrix: 9 × 4 of type dbl</caption>\n",
       "<tbody>\n",
       "\t<tr><td>-0.3333333</td><td> 0.4714045</td><td>-3.202997e-16</td><td> 3.693981e-01</td></tr>\n",
       "\t<tr><td>-0.3333333</td><td> 0.4714045</td><td>-3.415341e-16</td><td> 4.459029e-01</td></tr>\n",
       "\t<tr><td>-0.3333333</td><td> 0.4714045</td><td> 8.520300e-18</td><td>-8.153010e-01</td></tr>\n",
       "\t<tr><td>-0.3333333</td><td>-0.2357023</td><td>-4.082483e-01</td><td> 7.849070e-17</td></tr>\n",
       "\t<tr><td>-0.3333333</td><td>-0.2357023</td><td>-4.082483e-01</td><td> 1.340019e-16</td></tr>\n",
       "\t<tr><td>-0.3333333</td><td>-0.2357023</td><td>-4.082483e-01</td><td> 1.340019e-16</td></tr>\n",
       "\t<tr><td>-0.3333333</td><td>-0.2357023</td><td> 4.082483e-01</td><td> 1.182076e-16</td></tr>\n",
       "\t<tr><td>-0.3333333</td><td>-0.2357023</td><td> 4.082483e-01</td><td> 1.182076e-16</td></tr>\n",
       "\t<tr><td>-0.3333333</td><td>-0.2357023</td><td> 4.082483e-01</td><td> 1.182076e-16</td></tr>\n",
       "</tbody>\n",
       "</table>\n",
       "</dd>\n",
       "\t<dt>$v</dt>\n",
       "\t\t<dd><table class=\"dataframe\">\n",
       "<caption>A matrix: 4 × 4 of type dbl</caption>\n",
       "<tbody>\n",
       "\t<tr><td>-0.8660254</td><td> 0.0000000</td><td>-4.378026e-17</td><td> 0.5</td></tr>\n",
       "\t<tr><td>-0.2886751</td><td> 0.8164966</td><td>-2.509507e-16</td><td>-0.5</td></tr>\n",
       "\t<tr><td>-0.2886751</td><td>-0.4082483</td><td>-7.071068e-01</td><td>-0.5</td></tr>\n",
       "\t<tr><td>-0.2886751</td><td>-0.4082483</td><td> 7.071068e-01</td><td>-0.5</td></tr>\n",
       "</tbody>\n",
       "</table>\n",
       "</dd>\n",
       "</dl>\n"
      ],
      "text/latex": [
       "\\begin{description}\n",
       "\\item[\\$d] \\begin{enumerate*}\n",
       "\\item 3.46410161513775\n",
       "\\item 1.73205080756888\n",
       "\\item 1.73205080756888\n",
       "\\item 1.35973995551052e-16\n",
       "\\end{enumerate*}\n",
       "\n",
       "\\item[\\$u] A matrix: 9 × 4 of type dbl\n",
       "\\begin{tabular}{llll}\n",
       "\t -0.3333333 &  0.4714045 & -3.202997e-16 &  3.693981e-01\\\\\n",
       "\t -0.3333333 &  0.4714045 & -3.415341e-16 &  4.459029e-01\\\\\n",
       "\t -0.3333333 &  0.4714045 &  8.520300e-18 & -8.153010e-01\\\\\n",
       "\t -0.3333333 & -0.2357023 & -4.082483e-01 &  7.849070e-17\\\\\n",
       "\t -0.3333333 & -0.2357023 & -4.082483e-01 &  1.340019e-16\\\\\n",
       "\t -0.3333333 & -0.2357023 & -4.082483e-01 &  1.340019e-16\\\\\n",
       "\t -0.3333333 & -0.2357023 &  4.082483e-01 &  1.182076e-16\\\\\n",
       "\t -0.3333333 & -0.2357023 &  4.082483e-01 &  1.182076e-16\\\\\n",
       "\t -0.3333333 & -0.2357023 &  4.082483e-01 &  1.182076e-16\\\\\n",
       "\\end{tabular}\n",
       "\n",
       "\\item[\\$v] A matrix: 4 × 4 of type dbl\n",
       "\\begin{tabular}{llll}\n",
       "\t -0.8660254 &  0.0000000 & -4.378026e-17 &  0.5\\\\\n",
       "\t -0.2886751 &  0.8164966 & -2.509507e-16 & -0.5\\\\\n",
       "\t -0.2886751 & -0.4082483 & -7.071068e-01 & -0.5\\\\\n",
       "\t -0.2886751 & -0.4082483 &  7.071068e-01 & -0.5\\\\\n",
       "\\end{tabular}\n",
       "\n",
       "\\end{description}\n"
      ],
      "text/markdown": [
       "$d\n",
       ":   1. 3.46410161513775\n",
       "2. 1.73205080756888\n",
       "3. 1.73205080756888\n",
       "4. 1.35973995551052e-16\n",
       "\n",
       "\n",
       "\n",
       "$u\n",
       ":   \n",
       "A matrix: 9 × 4 of type dbl\n",
       "\n",
       "| -0.3333333 |  0.4714045 | -3.202997e-16 |  3.693981e-01 |\n",
       "| -0.3333333 |  0.4714045 | -3.415341e-16 |  4.459029e-01 |\n",
       "| -0.3333333 |  0.4714045 |  8.520300e-18 | -8.153010e-01 |\n",
       "| -0.3333333 | -0.2357023 | -4.082483e-01 |  7.849070e-17 |\n",
       "| -0.3333333 | -0.2357023 | -4.082483e-01 |  1.340019e-16 |\n",
       "| -0.3333333 | -0.2357023 | -4.082483e-01 |  1.340019e-16 |\n",
       "| -0.3333333 | -0.2357023 |  4.082483e-01 |  1.182076e-16 |\n",
       "| -0.3333333 | -0.2357023 |  4.082483e-01 |  1.182076e-16 |\n",
       "| -0.3333333 | -0.2357023 |  4.082483e-01 |  1.182076e-16 |\n",
       "\n",
       "\n",
       "$v\n",
       ":   \n",
       "A matrix: 4 × 4 of type dbl\n",
       "\n",
       "| -0.8660254 |  0.0000000 | -4.378026e-17 |  0.5 |\n",
       "| -0.2886751 |  0.8164966 | -2.509507e-16 | -0.5 |\n",
       "| -0.2886751 | -0.4082483 | -7.071068e-01 | -0.5 |\n",
       "| -0.2886751 | -0.4082483 |  7.071068e-01 | -0.5 |\n",
       "\n",
       "\n",
       "\n",
       "\n"
      ],
      "text/plain": [
       "$d\n",
       "[1] 3.464102e+00 1.732051e+00 1.732051e+00 1.359740e-16\n",
       "\n",
       "$u\n",
       "            [,1]       [,2]          [,3]          [,4]\n",
       " [1,] -0.3333333  0.4714045 -3.202997e-16  3.693981e-01\n",
       " [2,] -0.3333333  0.4714045 -3.415341e-16  4.459029e-01\n",
       " [3,] -0.3333333  0.4714045  8.520300e-18 -8.153010e-01\n",
       " [4,] -0.3333333 -0.2357023 -4.082483e-01  7.849070e-17\n",
       " [5,] -0.3333333 -0.2357023 -4.082483e-01  1.340019e-16\n",
       " [6,] -0.3333333 -0.2357023 -4.082483e-01  1.340019e-16\n",
       " [7,] -0.3333333 -0.2357023  4.082483e-01  1.182076e-16\n",
       " [8,] -0.3333333 -0.2357023  4.082483e-01  1.182076e-16\n",
       " [9,] -0.3333333 -0.2357023  4.082483e-01  1.182076e-16\n",
       "\n",
       "$v\n",
       "           [,1]       [,2]          [,3] [,4]\n",
       "[1,] -0.8660254  0.0000000 -4.378026e-17  0.5\n",
       "[2,] -0.2886751  0.8164966 -2.509507e-16 -0.5\n",
       "[3,] -0.2886751 -0.4082483 -7.071068e-01 -0.5\n",
       "[4,] -0.2886751 -0.4082483  7.071068e-01 -0.5\n"
      ]
     },
     "metadata": {},
     "output_type": "display_data"
    }
   ],
   "source": [
    "svd(a)"
   ]
  },
  {
   "cell_type": "code",
   "execution_count": null,
   "id": "7a575fb5",
   "metadata": {
    "papermill": {
     "duration": 0.002443,
     "end_time": "2023-03-21T10:11:39.187263",
     "exception": false,
     "start_time": "2023-03-21T10:11:39.184820",
     "status": "completed"
    },
    "tags": []
   },
   "outputs": [],
   "source": []
  }
 ],
 "metadata": {
  "kernelspec": {
   "display_name": "R",
   "language": "R",
   "name": "ir"
  },
  "language_info": {
   "codemirror_mode": "r",
   "file_extension": ".r",
   "mimetype": "text/x-r-source",
   "name": "R",
   "pygments_lexer": "r",
   "version": "4.0.5"
  },
  "papermill": {
   "default_parameters": {},
   "duration": 3.97617,
   "end_time": "2023-03-21T10:11:39.311984",
   "environment_variables": {},
   "exception": null,
   "input_path": "__notebook__.ipynb",
   "output_path": "__notebook__.ipynb",
   "parameters": {},
   "start_time": "2023-03-21T10:11:35.335814",
   "version": "2.4.0"
  }
 },
 "nbformat": 4,
 "nbformat_minor": 5
}
